{
 "cells": [
  {
   "cell_type": "code",
   "execution_count": 173,
   "metadata": {},
   "outputs": [],
   "source": [
    "import torch\n",
    "import numpy as np\n",
    "import matplotlib.pyplot as plt\n",
    "from torch import nn\n",
    "import torchvision\n",
    "import torch.nn.functional as F\n",
    "from torch.autograd import Variable"
   ]
  },
  {
   "cell_type": "code",
   "execution_count": 161,
   "metadata": {},
   "outputs": [],
   "source": [
    "train_batch_size = 256#Define train batch size\n",
    "test_batch_size  = 256#Define test batch size (can be larger than train batch size)\n",
    "\n",
    "#load and split training set into training and cross validation sets. \n",
    "train_set, cv_set = torch.utils.data.random_split(\n",
    "                             torchvision.datasets.MNIST('/files/', train=True, download=True,\n",
    "                               transform=torchvision.transforms.Compose([\n",
    "                               torchvision.transforms.ToTensor(),\n",
    "                               torchvision.transforms.Normalize(\n",
    "                                 (0.1307,), (0.3081,))\n",
    "                             ])), [50000, 10000])\n",
    "\n",
    "train_loader = torch.utils.data.DataLoader(train_set,\n",
    "  batch_size=train_batch_size, shuffle=True, drop_last=True)\n",
    "\n",
    "cv_loader = torch.utils.data.DataLoader(cv_set,\n",
    "  batch_size=train_batch_size, shuffle=True, drop_last=True)\n",
    "\n",
    "#load test data\n",
    "test_loader = torch.utils.data.DataLoader(\n",
    "  torchvision.datasets.MNIST('/files/', train=False, download=True,\n",
    "                             transform=torchvision.transforms.Compose([\n",
    "                               torchvision.transforms.ToTensor(),\n",
    "                               torchvision.transforms.Normalize(\n",
    "                                 (0.1307,), (0.3081,))\n",
    "                             ])),\n",
    "  batch_size=test_batch_size, shuffle=True, drop_last=True)"
   ]
  },
  {
   "cell_type": "code",
   "execution_count": 162,
   "metadata": {},
   "outputs": [],
   "source": [
    "class LeNet5(nn.Module):\n",
    "    def __init__(self):\n",
    "        super(LeNet5, self).__init__()\n",
    "        self.cnn1 = nn.Conv2d(in_channels = 1, out_channels = 6,\n",
    "                          kernel_size=5, stride=1, padding=2)\n",
    "        self.tanh1 = nn.Tanh()\n",
    "        self.avg_pool1 = nn.AvgPool2d(kernel_size = 2, \n",
    "                                stride= 2)\n",
    "        self.cnn2 = nn.Conv2d(in_channels =6, out_channels = 16, \n",
    "                             kernel_size = 5, stride = 1, padding=0)\n",
    "        self.tanh2= nn.Tanh()\n",
    "        self.avg_pool2 = nn.AvgPool2d(kernel_size = 2, stride = 2)\n",
    "        self.cnn3 = nn.Conv2d(in_channels = 16, out_channels = 120,\n",
    "                             kernel_size = 5, stride = 1)\n",
    "        self.tanh3 = nn.Tanh()\n",
    "        self.fc2 = nn.Linear(120,84)\n",
    "        self.tanh4 = nn.Tanh()\n",
    "        self.fc3 = nn.Linear(84,10)\n",
    "        \n",
    "    def forward(self, x):\n",
    "        #Define forward pass\n",
    "        out = self.cnn1(x)\n",
    "        out = self.tanh1(out)\n",
    "        out = self.avg_pool1(out)\n",
    "        out = self.cnn2(out)\n",
    "        out = self.tanh2(out)\n",
    "        out = self.avg_pool2(out)\n",
    "        out = (torch.tanh(torch.flatten(self.cnn3(out))))\n",
    "        out = torch.reshape(out, (train_batch_size,1,120))\n",
    "        out = torch.tanh(self.fc2(out))\n",
    "        out = self.fc3(out)\n",
    "        out = torch.reshape(out, (train_batch_size,10))\n",
    "        output= F.softmax(out,dim=1)\n",
    "        return output   \n",
    "    \n",
    "model = LeNet5()\n",
    "optimizer = torch.optim.Adam(model.parameters())\n",
    "loss_fn = nn.CrossEntropyLoss()"
   ]
  },
  {
   "cell_type": "code",
   "execution_count": 163,
   "metadata": {},
   "outputs": [],
   "source": [
    "epochs = 10\n",
    "accuracy_list = np.zeros((epochs,))\n",
    "train_losses = []\n",
    "for epoch in range(epochs):\n",
    "    for i, (images, labels) in enumerate(train_loader):\n",
    "        train = Variable(images.view(train_batch_size,1,28,28))\n",
    "        optimizer.zero_grad()\n",
    "        out = model(train)\n",
    "        loss = loss_fn(out,labels)\n",
    "        train_losses.append(loss)\n",
    "        loss.backward()\n",
    "        optimizer.step()\n",
    "        \n",
    "    with torch.no_grad():\n",
    "        for i, (images, labels) in enumerate(cv_loader):\n",
    "            train = Variable(images.view(test_batch_size,1,28,28))\n",
    "            labels = Variable(labels)\n",
    "            y_pred = model(train)\n",
    "            correct += (torch.argmax(y_pred, dim=1) == labels).sum()\n",
    "        accuracy = correct / 9984\n",
    "        accuracy_list[epoch] = accuracy  \n",
    "        correct = 0"
   ]
  },
  {
   "cell_type": "code",
   "execution_count": 167,
   "metadata": {},
   "outputs": [
    {
     "data": {
      "text/plain": [
       "([<matplotlib.axis.YTick at 0x1d9df5ec9d0>,\n",
       "  <matplotlib.axis.YTick at 0x1d9df5ec7f0>,\n",
       "  <matplotlib.axis.YTick at 0x1d9df855460>,\n",
       "  <matplotlib.axis.YTick at 0x1d9df625bb0>,\n",
       "  <matplotlib.axis.YTick at 0x1d9df62f100>],\n",
       " [Text(0, 0, ''),\n",
       "  Text(0, 0, ''),\n",
       "  Text(0, 0, ''),\n",
       "  Text(0, 0, ''),\n",
       "  Text(0, 0, '')])"
      ]
     },
     "execution_count": 167,
     "metadata": {},
     "output_type": "execute_result"
    },
    {
     "data": {
      "image/png": "[encoded data removed]",
      "text/plain": [
       "<Figure size 864x432 with 2 Axes>"
      ]
     },
     "metadata": {
      "needs_background": "dark"
     },
     "output_type": "display_data"
    }
   ],
   "source": [
    "fig, (ax1, ax2) = plt.subplots(2, figsize=(12, 6), sharex=False)\n",
    "ax1.plot(accuracy_list[1:])\n",
    "ax1.set_ylabel(\"Test Accuracy\", color='w')\n",
    "ax1.set_xlabel(\"Epochs\", color='w')\n",
    "ax1.grid()\n",
    "ax1.tick_params(labelcolor='w')\n",
    "ax2.plot(train_losses)\n",
    "ax2.set_ylabel(\"Training Loss\", color='w')\n",
    "ax2.set_xlabel(\"Training Samples (batch size of 256)\", color='w')\n",
    "ax2.tick_params(labelcolor='w')\n",
    "ax2.grid()\n",
    "plt.sca(ax1)\n",
    "plt.yticks(np.arange(0.8,1.05, step=0.05))"
   ]
  },
  {
   "cell_type": "code",
   "execution_count": 166,
   "metadata": {},
   "outputs": [
    {
     "name": "stdout",
     "output_type": "stream",
     "text": [
      "[0.93129998 0.95910001 0.96710002 0.97479999 0.9806     0.98119998\n",
      " 0.98379999 0.98210001 0.98280001 0.98479998]\n"
     ]
    }
   ],
   "source": [
    "print(accuracy_list)"
   ]
  },
  {
   "cell_type": "code",
   "execution_count": 172,
   "metadata": {},
   "outputs": [
    {
     "name": "stdout",
     "output_type": "stream",
     "text": [
      "[tensor(0.9867)]\n"
     ]
    }
   ],
   "source": [
    "#This cell tests the model with the remaining, untouched data. \n",
    "accuracy_list_test = []\n",
    "for i, (images, labels) in enumerate(test_loader):\n",
    "        train = Variable(images.view(test_batch_size,1,28,28))\n",
    "        labels = Variable(labels)\n",
    "        y_pred = model(train)\n",
    "        correct += (torch.argmax(y_pred, dim=1) == labels).sum()\n",
    "accuracy = correct / 9984 #9984 accounts for the fact that the last 16 examples were dropped. \n",
    "accuracy_list_test.append(accuracy)\n",
    "correct = 0\n",
    "print(accuracy_list_test)"
   ]
  }
 ],
 "metadata": {
  "kernelspec": {
   "display_name": "Python 3",
   "language": "python",
   "name": "python3"
  },
  "language_info": {
   "codemirror_mode": {
    "name": "ipython",
    "version": 3
   },
   "file_extension": ".py",
   "mimetype": "text/x-python",
   "name": "python",
   "nbconvert_exporter": "python",
   "pygments_lexer": "ipython3",
   "version": "3.8.5"
  }
 },
 "nbformat": 4,
 "nbformat_minor": 4
}
