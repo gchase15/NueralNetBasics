{
 "cells": [
  {
   "cell_type": "code",
   "execution_count": 1,
   "metadata": {},
   "outputs": [],
   "source": [
    "import numpy as np\n",
    "import matplotlib.pyplot as plt\n",
    "import pandas as pd\n",
    "import torch \n",
    "from sklearn.preprocessing import MinMaxScaler"
   ]
  },
  {
   "cell_type": "markdown",
   "metadata": {},
   "source": [
    "## Preprocess Data\n",
    "\n",
    "#### Included with this lab are TSLA.csv, GOOGL.csv and DJI.csv files. Use Pandas to retrieve the dataset. \n",
    "#### Use only Open price as your input. (You will train three models for three different stocks, don't mix these data together!)"
   ]
  },
  {
   "cell_type": "code",
   "execution_count": 2,
   "metadata": {},
   "outputs": [],
   "source": [
    "tesla_stocks = pd.read_csv('GOOGL.csv')\n"
   ]
  },
  {
   "cell_type": "code",
   "execution_count": 3,
   "metadata": {},
   "outputs": [
    {
     "data": {
      "text/html": [
       "<div>\n",
       "<style scoped>\n",
       "    .dataframe tbody tr th:only-of-type {\n",
       "        vertical-align: middle;\n",
       "    }\n",
       "\n",
       "    .dataframe tbody tr th {\n",
       "        vertical-align: top;\n",
       "    }\n",
       "\n",
       "    .dataframe thead th {\n",
       "        text-align: right;\n",
       "    }\n",
       "</style>\n",
       "<table border=\"1\" class=\"dataframe\">\n",
       "  <thead>\n",
       "    <tr style=\"text-align: right;\">\n",
       "      <th></th>\n",
       "      <th>Date</th>\n",
       "      <th>Open</th>\n",
       "      <th>High</th>\n",
       "      <th>Low</th>\n",
       "      <th>Close</th>\n",
       "      <th>Adj Close</th>\n",
       "      <th>Volume</th>\n",
       "    </tr>\n",
       "  </thead>\n",
       "  <tbody>\n",
       "    <tr>\n",
       "      <th>3697</th>\n",
       "      <td>2019-04-29</td>\n",
       "      <td>1280.510010</td>\n",
       "      <td>1296.969971</td>\n",
       "      <td>1271.709961</td>\n",
       "      <td>1296.199951</td>\n",
       "      <td>1296.199951</td>\n",
       "      <td>3618400</td>\n",
       "    </tr>\n",
       "    <tr>\n",
       "      <th>3698</th>\n",
       "      <td>2019-04-30</td>\n",
       "      <td>1190.630005</td>\n",
       "      <td>1200.979980</td>\n",
       "      <td>1183.000000</td>\n",
       "      <td>1198.959961</td>\n",
       "      <td>1198.959961</td>\n",
       "      <td>6658900</td>\n",
       "    </tr>\n",
       "    <tr>\n",
       "      <th>3699</th>\n",
       "      <td>2019-05-01</td>\n",
       "      <td>1197.500000</td>\n",
       "      <td>1199.250000</td>\n",
       "      <td>1171.680054</td>\n",
       "      <td>1173.319946</td>\n",
       "      <td>1173.319946</td>\n",
       "      <td>3717000</td>\n",
       "    </tr>\n",
       "    <tr>\n",
       "      <th>3700</th>\n",
       "      <td>2019-05-02</td>\n",
       "      <td>1172.599976</td>\n",
       "      <td>1179.380005</td>\n",
       "      <td>1158.329956</td>\n",
       "      <td>1166.510010</td>\n",
       "      <td>1166.510010</td>\n",
       "      <td>2254900</td>\n",
       "    </tr>\n",
       "    <tr>\n",
       "      <th>3701</th>\n",
       "      <td>2019-05-03</td>\n",
       "      <td>1177.410034</td>\n",
       "      <td>1191.400024</td>\n",
       "      <td>1173.550049</td>\n",
       "      <td>1189.550049</td>\n",
       "      <td>1189.550049</td>\n",
       "      <td>2078300</td>\n",
       "    </tr>\n",
       "  </tbody>\n",
       "</table>\n",
       "</div>"
      ],
      "text/plain": [
       "            Date         Open         High          Low        Close  \\\n",
       "3697  2019-04-29  1280.510010  1296.969971  1271.709961  1296.199951   \n",
       "3698  2019-04-30  1190.630005  1200.979980  1183.000000  1198.959961   \n",
       "3699  2019-05-01  1197.500000  1199.250000  1171.680054  1173.319946   \n",
       "3700  2019-05-02  1172.599976  1179.380005  1158.329956  1166.510010   \n",
       "3701  2019-05-03  1177.410034  1191.400024  1173.550049  1189.550049   \n",
       "\n",
       "        Adj Close   Volume  \n",
       "3697  1296.199951  3618400  \n",
       "3698  1198.959961  6658900  \n",
       "3699  1173.319946  3717000  \n",
       "3700  1166.510010  2254900  \n",
       "3701  1189.550049  2078300  "
      ]
     },
     "execution_count": 3,
     "metadata": {},
     "output_type": "execute_result"
    }
   ],
   "source": [
    "tesla_stocks.tail()"
   ]
  },
  {
   "cell_type": "code",
   "execution_count": 4,
   "metadata": {},
   "outputs": [],
   "source": [
    "data_to_use_tesla = tesla_stocks['Open'].values\n"
   ]
  },
  {
   "cell_type": "code",
   "execution_count": 5,
   "metadata": {},
   "outputs": [
    {
     "data": {
      "text/plain": [
       "[<matplotlib.lines.Line2D at 0x19f3992c880>]"
      ]
     },
     "execution_count": 5,
     "metadata": {},
     "output_type": "execute_result"
    },
    {
     "data": {
      "image/png": "[encoded data removed]",
      "text/plain": [
       "<Figure size 432x288 with 1 Axes>"
      ]
     },
     "metadata": {
      "needs_background": "light"
     },
     "output_type": "display_data"
    }
   ],
   "source": [
    "plt.plot(data_to_use_tesla)"
   ]
  },
  {
   "cell_type": "markdown",
   "metadata": {},
   "source": [
    "## Normalize your data."
   ]
  },
  {
   "cell_type": "code",
   "execution_count": 6,
   "metadata": {},
   "outputs": [
    {
     "name": "stderr",
     "output_type": "stream",
     "text": [
      "<ipython-input-6-bea1ef9e32b3>:4: SettingWithCopyWarning: \n",
      "A value is trying to be set on a copy of a slice from a DataFrame.\n",
      "Try using .loc[row_indexer,col_indexer] = value instead\n",
      "\n",
      "See the caveats in the documentation: https://pandas.pydata.org/pandas-docs/stable/user_guide/indexing.html#returning-a-view-versus-a-copy\n",
      "  price['Open']=scaler.fit_transform(price['Open'].values.reshape(-1,1))\n"
     ]
    }
   ],
   "source": [
    "price = tesla_stocks[['Open']]\n",
    "\n",
    "scaler = MinMaxScaler(feature_range=(-1,1))\n",
    "price['Open']=scaler.fit_transform(price['Open'].values.reshape(-1,1))"
   ]
  },
  {
   "cell_type": "code",
   "execution_count": 7,
   "metadata": {},
   "outputs": [
    {
     "data": {
      "text/plain": [
       "[<matplotlib.lines.Line2D at 0x19f39a12190>]"
      ]
     },
     "execution_count": 7,
     "metadata": {},
     "output_type": "execute_result"
    },
    {
     "data": {
      "image/png": "[encoded data removed]",
      "text/plain": [
       "<Figure size 432x288 with 1 Axes>"
      ]
     },
     "metadata": {
      "needs_background": "light"
     },
     "output_type": "display_data"
    }
   ],
   "source": [
    "\n",
    "plt.plot(price)"
   ]
  },
  {
   "cell_type": "markdown",
   "metadata": {},
   "source": [
    "## Split training, validation and testing data"
   ]
  },
  {
   "cell_type": "code",
   "execution_count": 8,
   "metadata": {},
   "outputs": [],
   "source": [
    "def split_data(stock, lookback):\n",
    "    data_raw = stock.to_numpy() # convert to numpy array\n",
    "    data = []\n",
    "    \n",
    "    # create all possible sequences of length seq_len\n",
    "    for index in range(len(data_raw) - lookback): \n",
    "        data.append(data_raw[index: index + lookback])\n",
    "    \n",
    "    data = np.array(data);\n",
    "    test_set_size = 100;\n",
    "    train_set_size = data.shape[0] - (test_set_size);\n",
    "    \n",
    "    x_train = data[:train_set_size,:-1,:]\n",
    "    y_train = data[:train_set_size,-1,:]\n",
    "    \n",
    "    x_test = data[train_set_size:,:-1]\n",
    "    y_test = data[train_set_size:,-1,:]\n",
    "    \n",
    "    return [x_train, y_train, x_test, y_test]\n",
    "lookback = 20 # choose sequence length\n",
    "x_train, y_train, x_test, y_test = split_data(price, lookback)"
   ]
  },
  {
   "cell_type": "markdown",
   "metadata": {},
   "source": [
    "## RNN Model"
   ]
  },
  {
   "cell_type": "code",
   "execution_count": 9,
   "metadata": {},
   "outputs": [],
   "source": [
    "import torch\n",
    "import torch.nn as nn\n",
    "x_train = torch.from_numpy(x_train).type(torch.Tensor)\n",
    "x_test = torch.from_numpy(x_test).type(torch.Tensor)\n",
    "y_train_lstm = torch.from_numpy(y_train).type(torch.Tensor)\n",
    "y_test_lstm = torch.from_numpy(y_test).type(torch.Tensor)\n",
    "y_train_gru = torch.from_numpy(y_train).type(torch.Tensor)\n",
    "y_test_gru = torch.from_numpy(y_test).type(torch.Tensor)"
   ]
  },
  {
   "cell_type": "code",
   "execution_count": 10,
   "metadata": {},
   "outputs": [],
   "source": [
    "input_dim = 1\n",
    "hidden_dim = 32\n",
    "num_layers = 2\n",
    "output_dim = 1\n",
    "num_epochs = 40\n",
    "test_epochs = 1"
   ]
  },
  {
   "cell_type": "code",
   "execution_count": 11,
   "metadata": {},
   "outputs": [],
   "source": [
    "class GRU(nn.Module):\n",
    "    def __init__(self, input_dim, hidden_dim, num_layers, output_dim):\n",
    "        super(GRU, self).__init__()\n",
    "        self.hidden_dim = hidden_dim\n",
    "        self.num_layers = num_layers\n",
    "        \n",
    "        self.gru = nn.GRU(input_dim, hidden_dim, num_layers, batch_first=True)\n",
    "        self.fc = nn.Linear(hidden_dim, output_dim)\n",
    "\n",
    "    def forward(self, x):\n",
    "        h0 = torch.zeros(self.num_layers, x.size(0), self.hidden_dim).requires_grad_()\n",
    "        out, (hn) = self.gru(x, (h0.detach()))\n",
    "        out = self.fc(out[:, -1, :]) \n",
    "        return out"
   ]
  },
  {
   "cell_type": "code",
   "execution_count": 12,
   "metadata": {},
   "outputs": [],
   "source": [
    "model = GRU(input_dim=input_dim, hidden_dim=hidden_dim, output_dim=output_dim, num_layers=num_layers)\n",
    "criterion = torch.nn.MSELoss(reduction='mean')\n",
    "optimiser = torch.optim.Adam(model.parameters(), lr=0.01)"
   ]
  },
  {
   "cell_type": "markdown",
   "metadata": {},
   "source": [
    "## Training code"
   ]
  },
  {
   "cell_type": "code",
   "execution_count": 13,
   "metadata": {},
   "outputs": [
    {
     "name": "stdout",
     "output_type": "stream",
     "text": [
      "Epoch  0 MSE:  0.46105459332466125\n",
      "Epoch  1 MSE:  0.2519567906856537\n",
      "Epoch  2 MSE:  0.14698882400989532\n",
      "Epoch  3 MSE:  0.17667832970619202\n",
      "Epoch  4 MSE:  0.09150364249944687\n",
      "Epoch  5 MSE:  0.03669791296124458\n",
      "Epoch  6 MSE:  0.03454126417636871\n",
      "Epoch  7 MSE:  0.026422690600156784\n",
      "Epoch  8 MSE:  0.013187729753553867\n",
      "Epoch  9 MSE:  0.037046462297439575\n",
      "Epoch  10 MSE:  0.0346723273396492\n",
      "Epoch  11 MSE:  0.009588144719600677\n",
      "Epoch  12 MSE:  0.0031201147940009832\n",
      "Epoch  13 MSE:  0.009245290420949459\n",
      "Epoch  14 MSE:  0.01307068020105362\n",
      "Epoch  15 MSE:  0.011653123423457146\n",
      "Epoch  16 MSE:  0.009057017974555492\n",
      "Epoch  17 MSE:  0.009332147426903248\n",
      "Epoch  18 MSE:  0.011952986009418964\n",
      "Epoch  19 MSE:  0.012546109966933727\n",
      "Epoch  20 MSE:  0.008984056301414967\n",
      "Epoch  21 MSE:  0.004117652773857117\n",
      "Epoch  22 MSE:  0.001647014170885086\n",
      "Epoch  23 MSE:  0.002114771632477641\n",
      "Epoch  24 MSE:  0.0034433845430612564\n",
      "Epoch  25 MSE:  0.0037642563693225384\n",
      "Epoch  26 MSE:  0.0031424532644450665\n",
      "Epoch  27 MSE:  0.0029533286578953266\n",
      "Epoch  28 MSE:  0.003788009751588106\n",
      "Epoch  29 MSE:  0.0044226511381566525\n",
      "Epoch  30 MSE:  0.00358298746868968\n",
      "Epoch  31 MSE:  0.001886210753582418\n",
      "Epoch  32 MSE:  0.0008573046652600169\n",
      "Epoch  33 MSE:  0.0009728657896630466\n",
      "Epoch  34 MSE:  0.0015199723420664668\n",
      "Epoch  35 MSE:  0.001733120996505022\n",
      "Epoch  36 MSE:  0.0015412927605211735\n",
      "Epoch  37 MSE:  0.001388864009641111\n",
      "Epoch  38 MSE:  0.0015778846573084593\n",
      "Epoch  39 MSE:  0.001873389002867043\n",
      "Training time: 9.827688455581665\n"
     ]
    }
   ],
   "source": [
    "import time\n",
    "hist = np.zeros(num_epochs)\n",
    "start_time = time.time()\n",
    "gru= []\n",
    "for t in range(num_epochs):\n",
    "    y_train_pred = model(x_train)\n",
    "    loss = criterion(y_train_pred, y_train_gru)\n",
    "    print(\"Epoch \", t, \"MSE: \", loss.item())\n",
    "    hist[t] = loss.item()   \n",
    "    optimiser.zero_grad()\n",
    "    loss.backward()\n",
    "    optimiser.step()    \n",
    "training_time = time.time()-start_time\n",
    "print(\"Training time: {}\".format(training_time))"
   ]
  },
  {
   "cell_type": "code",
   "execution_count": 14,
   "metadata": {},
   "outputs": [
    {
     "data": {
      "text/plain": [
       "[<matplotlib.lines.Line2D at 0x19f39a69610>]"
      ]
     },
     "execution_count": 14,
     "metadata": {},
     "output_type": "execute_result"
    },
    {
     "data": {
      "image/png": "[encoded data removed]",
      "text/plain": [
       "<Figure size 432x288 with 1 Axes>"
      ]
     },
     "metadata": {
      "needs_background": "light"
     },
     "output_type": "display_data"
    }
   ],
   "source": [
    "plt.plot(hist)"
   ]
  },
  {
   "cell_type": "code",
   "execution_count": 15,
   "metadata": {},
   "outputs": [
    {
     "data": {
      "text/plain": [
       "[<matplotlib.lines.Line2D at 0x19f39abbf70>]"
      ]
     },
     "execution_count": 15,
     "metadata": {},
     "output_type": "execute_result"
    },
    {
     "data": {
      "image/png": "[encoded data removed]",
      "text/plain": [
       "<Figure size 432x288 with 1 Axes>"
      ]
     },
     "metadata": {
      "needs_background": "light"
     },
     "output_type": "display_data"
    }
   ],
   "source": [
    "tense = y_train_pred\n",
    "train_array = tense.detach().numpy()\n",
    "\n",
    "plt.plot(train_array)\n",
    "plt.plot(price)"
   ]
  },
  {
   "cell_type": "markdown",
   "metadata": {},
   "source": [
    "## Testing code"
   ]
  },
  {
   "cell_type": "code",
   "execution_count": 16,
   "metadata": {},
   "outputs": [
    {
     "name": "stdout",
     "output_type": "stream",
     "text": [
      "Epoch  0 MSE:  0.007537251338362694\n"
     ]
    },
    {
     "data": {
      "text/plain": [
       "<matplotlib.legend.Legend at 0x19f39b2e7f0>"
      ]
     },
     "execution_count": 16,
     "metadata": {},
     "output_type": "execute_result"
    },
    {
     "data": {
      "image/png": "[encoded data removed]",
      "text/plain": [
       "<Figure size 432x288 with 1 Axes>"
      ]
     },
     "metadata": {
      "needs_background": "light"
     },
     "output_type": "display_data"
    }
   ],
   "source": [
    "import time\n",
    "hist = np.zeros(test_epochs)\n",
    "start_time = time.time()\n",
    "gru= []\n",
    "for t in range(test_epochs):\n",
    "    y_test_pred = model(x_test)\n",
    "    loss = criterion(y_test_pred, y_test_gru)\n",
    "    print(\"Epoch \", t, \"MSE: \", loss.item())\n",
    "    hist[t] = loss.item()   \n",
    "\n",
    "tense_test = y_test_pred\n",
    "test_array = tense_test.detach().numpy()\n",
    "test_price = price[-100:]\n",
    "\n",
    "\n",
    "plt.plot(test_array, 'g', label= 'Actual Price')\n",
    "plt.plot(test_price['Open'].values, 'k--', label = 'Predicted Price')\n",
    "plt.legend()"
   ]
  },
  {
   "cell_type": "code",
   "execution_count": null,
   "metadata": {},
   "outputs": [],
   "source": []
  }
 ],
 "metadata": {
  "kernelspec": {
   "display_name": "Python 3",
   "language": "python",
   "name": "python3"
  },
  "language_info": {
   "codemirror_mode": {
    "name": "ipython",
    "version": 3
   },
   "file_extension": ".py",
   "mimetype": "text/x-python",
   "name": "python",
   "nbconvert_exporter": "python",
   "pygments_lexer": "ipython3",
   "version": "3.8.5"
  }
 },
 "nbformat": 4,
 "nbformat_minor": 4
}
