{
  "nbformat": 4,
  "nbformat_minor": 0,
  "metadata": {
    "colab": {
      "name": "Lab4.ipynb",
      "provenance": [],
      "collapsed_sections": [],
      "toc_visible": true,
      "authorship_tag": "ABX9TyPDoWQtHlDA4X7tCfs3mm39",
      "include_colab_link": true
    },
    "kernelspec": {
      "name": "python3",
      "display_name": "Python 3"
    },
    "language_info": {
      "name": "python"
    },
    "accelerator": "GPU"
  },
  "cells": [
    {
      "cell_type": "markdown",
      "metadata": {
        "id": "view-in-github",
        "colab_type": "text"
      },
      "source": [
        "<a href=\"https://colab.research.google.com/github/gchase15/NueralNetBasics/blob/main/AlexNet.ipynb\" target=\"_parent\"><img src=\"https://colab.research.google.com/assets/colab-badge.svg\" alt=\"Open In Colab\"/></a>"
      ]
    },
    {
      "cell_type": "code",
      "metadata": {
        "id": "8hNIFtCbeXlY"
      },
      "source": [
        "import torch\n",
        "import numpy as np\n",
        "import matplotlib.pyplot as plt\n",
        "from torch import nn\n",
        "import torchvision\n",
        "import torchvision.datasets as datasets\n",
        "import torchvision.transforms as transforms\n",
        "from torch.utils import data\n",
        "import torch.nn.functional as F\n",
        "from torch.autograd import Variable"
      ],
      "execution_count": 1,
      "outputs": []
    },
    {
      "cell_type": "markdown",
      "metadata": {
        "id": "jM-mG-ApnJaO"
      },
      "source": [
        ""
      ]
    },
    {
      "cell_type": "code",
      "metadata": {
        "id": "2lpSne90Vfir"
      },
      "source": [
        "class AlexNet(nn.Module):\n",
        "    \"\"\"\n",
        "    Neural network model consisting of layers propsed by AlexNet paper.\n",
        "    \"\"\"\n",
        "    def __init__(self, num_classes=2):\n",
        "        \"\"\"\n",
        "        Define and allocate layers for this neural net.\n",
        "        Args:\n",
        "            num_classes (int): number of classes to predict with this model\n",
        "        \"\"\"\n",
        "        super(AlexNet,self).__init__()     \n",
        "        # Define the layers\n",
        "        self.net = nn.Sequential(\n",
        "            nn.Conv2d(in_channels=3, out_channels =96, kernel_size = 11, stride = 4, padding = 0),\n",
        "            nn.ReLU(),\n",
        "            nn.MaxPool2d(kernel_size = 3, stride = 2),\n",
        "            nn.ReLU(),\n",
        "            nn.Conv2d(in_channels=96, out_channels=256, kernel_size = 5, stride = 1, padding = 2),\n",
        "            nn.ReLU(),\n",
        "            nn.MaxPool2d(kernel_size = 3, stride = 2),\n",
        "            nn.ReLU(),\n",
        "            nn.Conv2d(in_channels = 256, out_channels = 384, kernel_size = 3, stride = 1, padding = 1),\n",
        "            nn.ReLU(),\n",
        "            nn.Conv2d(in_channels = 384, out_channels = 384, kernel_size = 3, stride = 1, padding = 1),\n",
        "            nn.ReLU(),\n",
        "            nn.Conv2d(in_channels = 384, out_channels = 256, kernel_size = 3, stride = 1, padding = 1),\n",
        "            nn.ReLU(),\n",
        "            nn.MaxPool2d(kernel_size = 3, stride = 2),\n",
        "        )  \n",
        "        self.classifier = nn.Sequential(\n",
        "            nn.Dropout(p=0.5, inplace=True),\n",
        "            nn.Linear(9216,4096),\n",
        "            nn.ReLU(),\n",
        "            nn.Dropout(p=0.5, inplace=True),\n",
        "            nn.Linear(4096, 4096),\n",
        "            nn.ReLU(),\n",
        "            nn.Linear(4096, num_classes),\n",
        "        ) \n",
        "        # initialize bias        \n",
        "        self.init_bias()\n",
        "    def init_bias(self):\n",
        "        # Initialize weights according to original paper\n",
        "        for layer in self.net:\n",
        "            if isinstance(layer, nn.Conv2d):\n",
        "                nn.init.normal_(layer.weight, mean=0, std=0.01)\n",
        "                nn.init.constant_(layer.bias, 0)\n",
        "        nn.init.constant_(self.net[4].bias, 1)\n",
        "        nn.init.constant_(self.net[10].bias, 1)\n",
        "        nn.init.constant_(self.net[12].bias, 1)\n",
        "\n",
        "    def forward(self, x):\n",
        "        x = self.net(x)\n",
        "                # reduce the dimensions for linear layer input\n",
        "        x = x.view(-1, 9216)  \n",
        "        return self.classifier(x)"
      ],
      "execution_count": 2,
      "outputs": []
    },
    {
      "cell_type": "code",
      "metadata": {
        "colab": {
          "base_uri": "https://localhost:8080/"
        },
        "id": "rGqYTG-dB4R6",
        "outputId": "0b1b8341-cebf-4151-9685-788c2f42d601"
      },
      "source": [
        "!git clone https://github.com/gchase15/NueralNetBasics.git"
      ],
      "execution_count": 3,
      "outputs": [
        {
          "output_type": "stream",
          "text": [
            "Cloning into 'NueralNetBasics'...\n",
            "remote: Enumerating objects: 25031, done.\u001b[K\n",
            "remote: Counting objects: 100% (13/13), done.\u001b[K\n",
            "remote: Compressing objects: 100% (13/13), done.\u001b[K\n",
            "remote: Total 25031 (delta 0), reused 12 (delta 0), pack-reused 25018\u001b[K\n",
            "Receiving objects: 100% (25031/25031), 541.74 MiB | 34.38 MiB/s, done.\n",
            "Resolving deltas: 100% (7/7), done.\n",
            "Checking out files: 100% (25014/25014), done.\n"
          ],
          "name": "stdout"
        }
      ]
    },
    {
      "cell_type": "code",
      "metadata": {
        "id": "-GYu5MLOfgD0"
      },
      "source": [
        "# Set the seed value\n",
        "seed = torch.initial_seed()\n",
        "\n",
        "# create model\n",
        "model = AlexNet()\n",
        "# create dataset and data loader\n",
        "train_batch_size = 32\n",
        "dataset = datasets.ImageFolder(\"/content/NueralNetBasics/train\", \n",
        "        transforms.Compose([\n",
        "        transforms.CenterCrop((227)),\n",
        "        transforms.ToTensor(),\n",
        "        transforms.Normalize(mean=[0.485, 0.456, 0.406], std=[0.229, 0.224, 0.225]),\n",
        "    ]))\n",
        "#uns_data = dataset.unsqueeze(0)\n",
        "train_set, cv_set = torch.utils.data.random_split(dataset, [22000, 3000])\n",
        "\n",
        "trainloader = data.DataLoader(\n",
        "        train_set,\n",
        "        shuffle=True,\n",
        "        pin_memory=True,\n",
        "        num_workers=2,\n",
        "        drop_last=True,\n",
        "        batch_size=train_batch_size)\n",
        "cvloader = data.DataLoader(\n",
        "        cv_set,\n",
        "        shuffle=True,\n",
        "        pin_memory=True,\n",
        "        num_workers=2,\n",
        "        drop_last=True,\n",
        "        batch_size=train_batch_size)\n",
        "\n",
        "# Define loss function\n",
        "loss_fn = nn.CrossEntropyLoss()\n",
        "# create optimizer\n",
        "optimizer = torch.optim.Adam(model.parameters(), lr = 0.0001)"
      ],
      "execution_count": 7,
      "outputs": []
    },
    {
      "cell_type": "code",
      "metadata": {
        "id": "BwSxNvmCJaN7"
      },
      "source": [
        "# start training\n",
        "epochs = 10\n",
        "correct = 0\n",
        "accuracy_list = np.zeros((epochs,))\n",
        "train_losses = []\n",
        "for epoch in range(epochs):\n",
        "    for i, (images, labels) in enumerate(trainloader):\n",
        "        images = images.view(train_batch_size,3, 227, 227)\n",
        "        optimizer.zero_grad()\n",
        "        out = model(images)\n",
        "        loss = loss_fn(out,labels)\n",
        "        train_losses.append(loss)\n",
        "        loss.backward()\n",
        "        optimizer.step()\n",
        "    with torch.no_grad():\n",
        "        for i, (images, labels) in enumerate(cvloader):\n",
        "            images = images.view(train_batch_size,3, 227, 227)\n",
        "            labels = Variable(labels)\n",
        "            y_pred = model(images)\n",
        "            correct += (torch.argmax(y_pred, dim=1) == labels).sum()\n",
        "        accuracy = correct / 2944\n",
        "        accuracy_list[epoch] = accuracy  \n",
        "        correct = 0\n"
      ],
      "execution_count": null,
      "outputs": []
    },
    {
      "cell_type": "code",
      "metadata": {
        "colab": {
          "base_uri": "https://localhost:8080/",
          "height": 732
        },
        "id": "3paTeARqLxZB",
        "outputId": "518b28c1-1263-486a-923b-754eed6babc6"
      },
      "source": [
        "fig, (ax1, ax2) = plt.subplots(2, figsize=(12, 6), sharex=False)\n",
        "ax1.plot(accuracy_list[1:])\n",
        "ax1.set_ylabel(\"Test Accuracy\")\n",
        "ax1.set_xlabel(\"Epochs\")\n",
        "ax1.grid()\n",
        "#ax1.tick_params(labelcolor='w')\n",
        "ax2.plot(train_losses)  \n",
        "ax2.set_ylabel(\"Training Loss\")\n",
        "ax2.set_xlabel(\"Training Samples (batch size of 128)\")\n",
        "\n",
        "#ax2.tick_params(labelcolor='w')\n",
        "ax2.grid()\n",
        "plt.sca(ax1)\n",
        "plt.yticks(np.arange(0.1,1.05, step=0.05))"
      ],
      "execution_count": 12,
      "outputs": [
        {
          "output_type": "execute_result",
          "data": {
            "text/plain": [
              "([<matplotlib.axis.YTick at 0x7f8f5fd2dd50>,\n",
              "  <matplotlib.axis.YTick at 0x7f8f5fd2d590>,\n",
              "  <matplotlib.axis.YTick at 0x7f8f60311fd0>,\n",
              "  <matplotlib.axis.YTick at 0x7f8f5fd89390>,\n",
              "  <matplotlib.axis.YTick at 0x7f8f5fd898d0>,\n",
              "  <matplotlib.axis.YTick at 0x7f8f5fd89e10>,\n",
              "  <matplotlib.axis.YTick at 0x7f8f5fd933d0>,\n",
              "  <matplotlib.axis.YTick at 0x7f8f5fd93910>,\n",
              "  <matplotlib.axis.YTick at 0x7f8f5fd93e50>,\n",
              "  <matplotlib.axis.YTick at 0x7f8f5fd9b3d0>,\n",
              "  <matplotlib.axis.YTick at 0x7f8f5fd9b8d0>,\n",
              "  <matplotlib.axis.YTick at 0x7f8f5fd9be10>,\n",
              "  <matplotlib.axis.YTick at 0x7f8f5fd9b7d0>,\n",
              "  <matplotlib.axis.YTick at 0x7f8f5fd93250>,\n",
              "  <matplotlib.axis.YTick at 0x7f8f5fd89310>,\n",
              "  <matplotlib.axis.YTick at 0x7f8f5fda25d0>,\n",
              "  <matplotlib.axis.YTick at 0x7f8f5fda2b10>,\n",
              "  <matplotlib.axis.YTick at 0x7f8f5fda2d50>,\n",
              "  <matplotlib.axis.YTick at 0x7f8f5fdad5d0>],\n",
              " <a list of 19 Text major ticklabel objects>)"
            ]
          },
          "metadata": {
            "tags": []
          },
          "execution_count": 12
        },
        {
          "output_type": "display_data",
          "data": {
            "image/png": "[encoded data removed]",
            "text/plain": [
              "<Figure size 864x432 with 2 Axes>"
            ]
          },
          "metadata": {
            "tags": [],
            "needs_background": "light"
          }
        }
      ]
    },
    {
      "cell_type": "code",
      "metadata": {
        "colab": {
          "base_uri": "https://localhost:8080/"
        },
        "id": "E8BpFkHdvQkp",
        "outputId": "658a9972-8316-4689-99ce-4b6c11ca95e1"
      },
      "source": [
        "print(accuracy_list)"
      ],
      "execution_count": 13,
      "outputs": [
        {
          "output_type": "stream",
          "text": [
            "[0. 0. 0. 0. 0. 0. 0. 0. 0. 0.]\n"
          ],
          "name": "stdout"
        }
      ]
    },
    {
      "cell_type": "code",
      "metadata": {
        "id": "9zafd8TLxtPH"
      },
      "source": [
        ""
      ],
      "execution_count": null,
      "outputs": []
    }
  ]
}